{
  "cells": [
    {
      "cell_type": "code",
      "execution_count": 9,
      "metadata": {
        "id": "ZihrnudFMv-6"
      },
      "outputs": [],
      "source": [
        "# uncomment this command if you get an error from the following cell saying that 'highs' solver is not recognized\n",
        "# !pip install --upgrade --user scipy\n"
      ]
    },
    {
      "cell_type": "code",
      "execution_count": 10,
      "metadata": {
        "colab": {
          "base_uri": "https://localhost:8080/"
        },
        "id": "aZptSev6Mv-7",
        "outputId": "cdc88145-1ef1-4f90-c49b-cb68120505a2"
      },
      "outputs": [
        {
          "output_type": "stream",
          "name": "stdout",
          "text": [
            "Optimal daily servings:\n",
            "  Chicken: 0.33 servings\n",
            "  Rice: 14.52 servings\n",
            "  Broccoli: 0.60 servings\n",
            "Total cost: $13.34\n"
          ]
        }
      ],
      "source": [
        "import numpy as np\n",
        "from scipy.optimize import linprog\n",
        "\n",
        "# Define cost per serving (Chicken, Rice, Broccoli)\n",
        "cost = [2.50, 0.80, 1.50]  # Minimize: 2.5x + 0.8y + 1.5z\n",
        "\n",
        "# Define nutrition constraints matrix (Calories, Protein, Fat, Vitamin C)\n",
        "nutrition = [\n",
        "    [250, 130, 50],    # Calories per serving\n",
        "    [30, 3, 4],        # Protein per serving\n",
        "    [8, 0.5, 0.2],     # Fat per serving\n",
        "    [0, 0, 50]         # Vitamin C per serving\n",
        "]\n",
        "\n",
        "# Define minimum daily intake for each nutrient\n",
        "min_nutrition = [2000, 50, 10, 30]  # [Calories, Protein, Fat, Vitamin C]\n",
        "\n",
        "# Convert constraints to standard form (Ax ≤ b)\n",
        "A_ub = -1 * np.array(nutrition)  # Flip sign to convert ≥ to ≤\n",
        "b_ub = -1 * np.array(min_nutrition)\n",
        "\n",
        "# Define bounds for each food item (no negative servings)\n",
        "bounds = [(0, None), (0, None), (0, None)]\n",
        "\n",
        "# Solve the linear programming problem\n",
        "result = linprog(c=cost, A_ub=A_ub, b_ub=b_ub, bounds=bounds, method=\"highs\")\n",
        "\n",
        "# Print results\n",
        "if result.success:\n",
        "    servings = result.x\n",
        "    print(\"Optimal daily servings:\")\n",
        "    print(f\"  Chicken: {servings[0]:.2f} servings\")\n",
        "    print(f\"  Rice: {servings[1]:.2f} servings\")\n",
        "    print(f\"  Broccoli: {servings[2]:.2f} servings\")\n",
        "    print(f\"Total cost: ${result.fun:.2f}\")\n",
        "else:\n",
        "    print(\"Optimization failed:\", result.message)\n",
        "\n"
      ]
    },
    {
      "cell_type": "code",
      "source": [
        "#____________________________________________________Answers____________________________________________________"
      ],
      "metadata": {
        "id": "iLCKdLZbddI_"
      },
      "execution_count": 11,
      "outputs": []
    },
    {
      "cell_type": "markdown",
      "source": [
        "1. Before adding Vitamin C: What was the optimal diet and cost?\n",
        "\n",
        "The optimal servings per day were:\n",
        "\n",
        "Chicken: 0.33 servings\n",
        "\n",
        "Rice: 14.75 servings\n",
        "\n",
        "Broccoli: 0.00 servings\n",
        "\n",
        "The minimum cost of the diet was $12.62 per day\n",
        "\n",
        "\n",
        "_______________________________________________________________________________"
      ],
      "metadata": {
        "id": "dV_9UvTrV6Ye"
      }
    },
    {
      "cell_type": "markdown",
      "source": [
        "2. After adding Vitamin C: How did the results change? Did the cost increase?\n",
        "\n",
        "The new optimal servings per day were:\n",
        "\n",
        "Chicken: 0.33 servings\n",
        "\n",
        "Rice: 14.52 servings\n",
        "\n",
        "Broccoli: 0.60 servings\n",
        "\n",
        "The new minimum cost was $13.34 per day\n",
        "\n",
        "Changes observed:\n",
        "The amount of Broccoli likely increased to meet the Vitamin C requirement.\n",
        "\n",
        "The cost increased because adding the Vitamin C constraint forced the diet to include more Broccoli, which is relatively more expensive than Rice.\n",
        "\n",
        "Before adding the Vitamin C constraint, the optimization minimized cost by choosing a combination of Chicken, Rice, and Broccoli that met the basic calorie, protein, and fat requirements at the lowest price.\n",
        "\n",
        "However, after adding the requirement of at least 30 mg of Vitamin C per day, the solver had to ensure that enough Broccoli was included in the diet. Since Broccoli costs $1.50 per serving, this led to a higher total cost compared to the previous solution, where the optimizer might have relied more on cheaper options like Rice.\n",
        "\n",
        "_______________________________________________________________________________"
      ],
      "metadata": {
        "id": "hDMgNawbVQdJ"
      }
    },
    {
      "cell_type": "markdown",
      "source": [
        "3. What does this tell you about trade-offs in diet planning?\n",
        "\n",
        "Adding new constraints (such as Vitamin C intake) forces changes in food selection.\n",
        "\n",
        "Broccoli consumption increased, affecting the cost and balance of other nutrients.\n",
        "\n",
        "This demonstrates a key trade-off:\n",
        "\n",
        "Health vs. Cost – A healthier diet may be more expensive.\n",
        "\n",
        "Flexibility vs. Constraints – More dietary requirements reduce flexibility in choosing cheaper foods.\n",
        "\n",
        "In real-world diet planning, nutritional balance and affordability must be optimized together.\n",
        "\n",
        "_______________________________________________________________________________"
      ],
      "metadata": {
        "id": "1zcNtV0XV-k3"
      }
    }
  ],
  "metadata": {
    "kernelspec": {
      "display_name": "Python 3",
      "language": "python",
      "name": "python3"
    },
    "language_info": {
      "codemirror_mode": {
        "name": "ipython",
        "version": 3
      },
      "file_extension": ".py",
      "mimetype": "text/x-python",
      "name": "python",
      "nbconvert_exporter": "python",
      "pygments_lexer": "ipython3",
      "version": "3.8.5"
    },
    "colab": {
      "provenance": []
    }
  },
  "nbformat": 4,
  "nbformat_minor": 0
}