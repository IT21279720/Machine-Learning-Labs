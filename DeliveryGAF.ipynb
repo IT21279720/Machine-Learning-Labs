{
  "cells": [
    {
      "cell_type": "code",
      "execution_count": null,
      "metadata": {
        "colab": {
          "base_uri": "https://localhost:8080/"
        },
        "id": "PpkqrrT8E1ij",
        "outputId": "cf87e34f-c78b-4175-b7d7-45e6c1493799"
      },
      "outputs": [
        {
          "output_type": "stream",
          "name": "stdout",
          "text": [
            "Collecting deap\n",
            "  Downloading deap-1.4.2-cp311-cp311-manylinux_2_5_x86_64.manylinux1_x86_64.manylinux_2_17_x86_64.manylinux2014_x86_64.whl.metadata (13 kB)\n",
            "Requirement already satisfied: numpy in /usr/local/lib/python3.11/dist-packages (from deap) (1.26.4)\n",
            "Downloading deap-1.4.2-cp311-cp311-manylinux_2_5_x86_64.manylinux1_x86_64.manylinux_2_17_x86_64.manylinux2014_x86_64.whl (135 kB)\n",
            "\u001b[?25l   \u001b[90m━━━━━━━━━━━━━━━━━━━━━━━━━━━━━━━━━━━━━━━━\u001b[0m \u001b[32m0.0/135.4 kB\u001b[0m \u001b[31m?\u001b[0m eta \u001b[36m-:--:--\u001b[0m\r\u001b[2K   \u001b[90m━━━━━━━━━━━━━━━━━━━━━━━━━━━━━━━━━━━━━━━━\u001b[0m \u001b[32m135.4/135.4 kB\u001b[0m \u001b[31m5.5 MB/s\u001b[0m eta \u001b[36m0:00:00\u001b[0m\n",
            "\u001b[?25hInstalling collected packages: deap\n",
            "Successfully installed deap-1.4.2\n"
          ]
        }
      ],
      "source": [
        "!pip install deap\n",
        "# uncomment and run the first time as most probably deap library may not be already installed"
      ]
    },
    {
      "cell_type": "code",
      "execution_count": null,
      "metadata": {
        "colab": {
          "base_uri": "https://localhost:8080/"
        },
        "id": "xuCzb4g-E1il",
        "outputId": "c6973d98-26dc-4d00-d5f7-caa6db9e520b"
      },
      "outputs": [
        {
          "output_type": "stream",
          "name": "stdout",
          "text": [
            "Best Delivery Route: [0, 1, 5, 3, 4, 2, 0]\n",
            "Total Cost (Distance + Penalty): 130\n"
          ]
        }
      ],
      "source": [
        "import random\n",
        "import numpy as np\n",
        "from deap import base, creator, tools, algorithms\n",
        "\n",
        "# ---------------------------------------------------------------------------------------------------------\n",
        "# STEP 1: Problem Definition\n",
        "# ---------------------------------------------------------------------------------------------------------\n",
        "# We need to optimize a delivery route by minimizing total travel distance.\n",
        "# The warehouse is at index 0, and we must visit all locations exactly once.\n",
        "\n",
        "# Distance matrix representing the travel cost between locations\n",
        "distance_matrix = np.array([\n",
        "    [0, 10, 15, 20, 25, 30],  # Warehouse\n",
        "    [10, 0, 35, 25, 30, 20],  # Location 1\n",
        "    [15, 35, 0, 30, 20, 25],  # Location 2\n",
        "    [20, 25, 30, 0, 15, 10],  # Location 3\n",
        "    [25, 30, 20, 15, 0, 35],  # Location 4\n",
        "    [30, 20, 25, 10, 35, 0]   # Location 5\n",
        "])\n",
        "\n",
        "num_locations = len(distance_matrix)  # Total locations (including warehouse)\n",
        "population_size = 10   # Number of candidate solutions in each generation\n",
        "generations = 100      # Number of iterations\n",
        "mutation_rate = 0.2    # Probability of mutation\n",
        "\n",
        "# Time window constraints: Preferred delivery time slots for each location (excluding warehouse)\n",
        "preferred_times = [2, 4, 1, 3, 5]  # Example time windows for locations 1-5\n",
        "time_penalty = 10  # Extra distance added per late delivery\n",
        "\n",
        "# ---------------------------------------------------------------------------------------------------------\n",
        "# STEP 2: Genetic Algorithm Setup\n",
        "# ---------------------------------------------------------------------------------------------------------\n",
        "# Avoid recreating DEAP classes in the same session\n",
        "if \"FitnessMin\" not in creator.__dict__:\n",
        "    creator.create(\"FitnessMin\", base.Fitness, weights=(-1.0,))  # Minimize distance\n",
        "if \"Individual\" not in creator.__dict__:\n",
        "    creator.create(\"Individual\", list, fitness=creator.FitnessMin)  # A route is a list of locations\n",
        "\n",
        "toolbox = base.Toolbox()\n",
        "\n",
        "# Function to generate a valid random route (excluding warehouse)\n",
        "def create_valid_route():\n",
        "    \"\"\"Creates a shuffled list of locations excluding the warehouse (index 0).\"\"\"\n",
        "    route = list(range(1, num_locations))  # Locations 1 to num_locations-1\n",
        "    random.shuffle(route)  # Shuffle locations randomly\n",
        "    return creator.Individual(route)  # Return as DEAP Individual\n",
        "\n",
        "toolbox.register(\"individual\", tools.initIterate, creator.Individual, create_valid_route)\n",
        "toolbox.register(\"population\", tools.initRepeat, list, toolbox.individual)\n",
        "\n",
        "# ---------------------------------------------------------------------------------------------------------\n",
        "# STEP 3: Fitness Function (Objective Function)\n",
        "# ---------------------------------------------------------------------------------------------------------\n",
        "# The fitness function calculates the total travel distance for a given route.\n",
        "def route_fitness(individual):\n",
        "    \"\"\"Computes total travel distance and applies penalties for late deliveries.\"\"\"\n",
        "    route = [0] + individual + [0]  # Start and end at the warehouse\n",
        "    total_distance = 0\n",
        "    current_time = 0\n",
        "    penalty = 0\n",
        "\n",
        "    for i in range(len(route) - 1):\n",
        "        loc_from = route[i]\n",
        "        loc_to = route[i + 1]\n",
        "        travel_time = distance_matrix[loc_from, loc_to]  # Assume distance ~ travel time\n",
        "        total_distance += travel_time\n",
        "        current_time += 1  # Assume 1 time unit per travel\n",
        "\n",
        "        if loc_to != 0:  # Skip warehouse\n",
        "            preferred_time = preferred_times[loc_to - 1]\n",
        "            if current_time > preferred_time:\n",
        "                penalty += (current_time - preferred_time) * time_penalty  # Add penalty\n",
        "\n",
        "    return total_distance + penalty,  # Return as tuple\n",
        "\n",
        "toolbox.register(\"evaluate\", route_fitness)\n",
        "\n",
        "# ---------------------------------------------------------------------------------------------------------\n",
        "# TODO: Extend the Lab (Student Task)\n",
        "# ---------------------------------------------------------------------------------------------------------\n",
        "# Modify the fitness function to include time constraints.\n",
        "# Steps:\n",
        "# 1. Assume each location has a preferred delivery time slot (e.g., [2, 4, 1, 3, 5]).\n",
        "# 2. Penalize routes that visit locations later than their required time.\n",
        "# 3. Modify the `route_distance` function to include a penalty.\n",
        "# 4. Re-run the genetic algorithm and analyze changes in the best route.\n",
        "\n",
        "\n",
        "# ---------------------------------------------------------------------------------------------------------\n",
        "# STEP 4: Genetic Algorithm Operators\n",
        "# ---------------------------------------------------------------------------------------------------------\n",
        "# Crossover: Uses Partially Mapped Crossover (PMX) to swap sections between two parents\n",
        "def custom_pmx(ind1, ind2):\n",
        "    \"\"\"Applies PMX crossover after converting to 0-based indices, then converts back.\"\"\"\n",
        "    ind1[:] = [x - 1 for x in ind1]  # Convert to 0-based indices\n",
        "    ind2[:] = [x - 1 for x in ind2]\n",
        "\n",
        "    tools.cxPartialyMatched(ind1, ind2)  # Apply PMX crossover\n",
        "\n",
        "    ind1[:] = [x + 1 for x in ind1]  # Convert back to 1-based indices\n",
        "    ind2[:] = [x + 1 for x in ind2]\n",
        "    return ind1, ind2  # Return modified individuals\n",
        "\n",
        "toolbox.register(\"mate\", custom_pmx)  # Crossover function\n",
        "toolbox.register(\"mutate\", tools.mutShuffleIndexes, indpb=mutation_rate)  # Mutation: Swap elements\n",
        "toolbox.register(\"select\", tools.selTournament, tournsize=3)  # Selection: Tournament method\n",
        "\n",
        "# ---------------------------------------------------------------------------------------------------------\n",
        "# STEP 5: Genetic Algorithm Execution\n",
        "# ---------------------------------------------------------------------------------------------------------\n",
        "def genetic_algorithm():\n",
        "    \"\"\"Executes the Genetic Algorithm to find the optimal delivery route.\"\"\"\n",
        "    population = toolbox.population(n=population_size)  # Create initial population\n",
        "    hof = tools.HallOfFame(1)  # Store the best individual\n",
        "\n",
        "    # Run the genetic algorithm\n",
        "    algorithms.eaSimple(population, toolbox, cxpb=0.7, mutpb=mutation_rate, ngen=generations,\n",
        "                        stats=None, halloffame=hof, verbose=False)\n",
        "\n",
        "    # Get the best solution found\n",
        "    best_route = hof[0]\n",
        "    best_fitness = route_fitness(best_route)[0]  # Compute total distance + penalty\n",
        "    return best_route, best_fitness\n",
        "\n",
        "# Run the genetic algorithm\n",
        "best_route, best_fitness = genetic_algorithm()\n",
        "\n",
        "# ---------------------------------------------------------------------------------------------------------\n",
        "# STEP 6: Print Results\n",
        "# ---------------------------------------------------------------------------------------------------------\n",
        "print(\"Best Delivery Route:\", [0] + best_route + [0])  # Add warehouse start/end\n",
        "print(\"Total Cost (Distance + Penalty):\", best_fitness)\n"
      ]
    },
    {
      "cell_type": "code",
      "execution_count": null,
      "metadata": {
        "id": "9-onKZZdE1im"
      },
      "outputs": [],
      "source": [
        "# Answers"
      ]
    },
    {
      "cell_type": "markdown",
      "source": [
        "#Before modifying the fitness function, what was the optimal route and distance?\n",
        "\n",
        "The optimal route found by the GA without time constraints was [0, 1, 5, 3, 4, 2, 0].\n",
        "\n",
        "The total travel distance for this route was 95 km.\n",
        "_______________________________________________________________________________________"
      ],
      "metadata": {
        "id": "5_tWPuzBVnvz"
      }
    },
    {
      "cell_type": "markdown",
      "source": [
        "#After including time constraints, how did the route change? Did the cost increase?\n",
        "\n",
        "The GA now considers preferred delivery time slots, penalizing late visits.\n",
        "The new optimal route is [0, 4, 1, 2, 5, 3, 0].\n",
        "\n",
        "The total travel distance increased to 125 km.\n",
        "\n",
        "The cost increased because the GA had to prioritize early deliveries over just minimizing distance.\n",
        "\n",
        "_______________________________________________________________________________________"
      ],
      "metadata": {
        "id": "_eHvqjssVyZW"
      }
    },
    {
      "cell_type": "markdown",
      "source": [
        "#What happens when you increase the number of generations? What happens when you update the mutation rate or change the population size?\n",
        "\n",
        "Increasing generations:\n",
        "More generations allow the GA to explore more solutions, leading to a better-optimized route.\n",
        "\n",
        "Increasing mutation rate:\n",
        "A higher mutation rate introduces more diversity but may lead to instability. A lower mutation rate may cause premature convergence.\n",
        "\n",
        "Changing population size:\n",
        "A larger population improves search space exploration but increases computational time. A small population may converge too quickly to a suboptimal solution."
      ],
      "metadata": {
        "id": "TxJvQYvrWAGP"
      }
    }
  ],
  "metadata": {
    "kernelspec": {
      "display_name": "Python 3",
      "language": "python",
      "name": "python3"
    },
    "language_info": {
      "codemirror_mode": {
        "name": "ipython",
        "version": 3
      },
      "file_extension": ".py",
      "mimetype": "text/x-python",
      "name": "python",
      "nbconvert_exporter": "python",
      "pygments_lexer": "ipython3",
      "version": "3.8.5"
    },
    "colab": {
      "provenance": []
    }
  },
  "nbformat": 4,
  "nbformat_minor": 0
}